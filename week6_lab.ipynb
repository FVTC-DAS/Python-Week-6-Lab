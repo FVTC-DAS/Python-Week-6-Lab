{
 "cells": [
  {
   "cell_type": "markdown",
   "metadata": {},
   "source": [
    "# Week 6 Lab: Lists and f-strings\n",
    "\n",
    "Complete each task in the cells provided. Remember to run all cells before committing and pushing your work."
   ]
  },
  {
   "cell_type": "markdown",
   "metadata": {},
   "source": [
    "### Task 1: Create and Access\n",
    "\n",
    "1. Create a list named `favorite_foods` that contains three of your favorite foods as strings.\n",
    "2. Print the entire list.\n",
    "3. Print the item at index 0 of the list.\n",
    "4. Print the item at index 2 of the list."
   ]
  },
  {
   "cell_type": "code",
   "execution_count": null,
   "metadata": {},
   "outputs": [],
   "source": [
    "# TODO: Write your code for Task 1 here"
   ]
  },
  {
   "cell_type": "markdown",
   "metadata": {},
   "source": [
    "### Task 2: Modify and Append\n",
    "\n",
    "1. Using the same `favorite_foods` list from Task 1, change the item at index 1 to a different food.\n",
    "2. Use the `.append()` method to add a fourth food to the end of the list.\n",
    "3. Print the final, modified list."
   ]
  },
  {
   "cell_type": "code",
   "execution_count": null,
   "metadata": {},
   "outputs": [],
   "source": [
    "# TODO: Write your code for Task 2 here"
   ]
  },
  {
   "cell_type": "markdown",
   "metadata": {},
   "source": [
    "### Task 3: Loop and Print with an f-string\n",
    "\n",
    "1. Using the final version of your `favorite_foods` list, write a `for` loop.\n",
    "2. Inside the loop, use an f-string to print each food on a new line, formatted like this: `I like to eat: pizza`."
   ]
  },
  {
   "cell_type": "code",
   "execution_count": null,
   "metadata": {},
   "outputs": [],
   "source": [
    "# TODO: Write your code for Task 3 here"
   ]
  },
  {
   "cell_type": "markdown",
   "metadata": {},
   "source": [
    "--- \n",
    "**Reminder:** Save your notebook, then commit and push your changes back to GitHub Classroom."
   ]
  }
 ],
 "metadata": {
  "kernelspec": {
   "display_name": "Python 3",
   "language": "python",
   "name": "python3"
  },
  "language_info": {
   "codemirror_mode": {
    "name": "ipython",
    "version": 3
   },
   "file_extension": ".py",
   "mimetype": "text/x-python",
   "name": "python",
   "nbconvert_exporter": "python",
   "pygments_lexer": "ipython3",
   "version": "3.9.7"
  }
 },
 "nbformat": 4,
 "nbformat_minor": 2
}
